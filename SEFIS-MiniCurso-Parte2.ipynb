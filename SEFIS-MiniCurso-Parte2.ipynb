{
 "cells": [
  {
   "cell_type": "markdown",
   "id": "3ac40fc4",
   "metadata": {},
   "source": [
    "<img src = \"Logo_SEFIS_2023_-fundo-cinza-.png\" width=200 style=\"float: right;\" > \n",
    "\n",
    "# <center> XXVII Semana da Física </center>\n",
    " \n",
    "## <center> Introdução aos Métodos Estatístico na Cosmologia - Parte 2<center>\n",
    "<center> Cinthia Nunes de Lima <center>\n",
    "\n"
   ]
  },
  {
   "cell_type": "markdown",
   "id": "3d81d15d",
   "metadata": {},
   "source": [
    "### Conteúdo:\n",
    "\n",
    "**1- Estimativas e probabilidade**\n",
    "\n",
    "**2- Estimativa de parâmetros cosmológicos**"
   ]
  },
  {
   "cell_type": "markdown",
   "id": "f21d23a9",
   "metadata": {},
   "source": [
    "## Estimativa\n",
    "\n",
    "É um procedimento aplicado aos dados que retorna um valor numérico para uma propriedade da população “parental” (da onde foi retirada a amostra dos dados).\n",
    "\n",
    "Estimadores (â) tem 3 características:\n",
    "1.\tConsistência: um estimador é consistente se ele tende ao valor real (a) quando o numero de dados tende ao infinito. \n",
    "\n",
    "$$\n",
    "\\lim_{N \\to \\infty}  â = a\n",
    "$$\n",
    "\n",
    "2.\tViés: um estimador é não enviesado se o valor esperado é igual ao valor real.\n",
    "\n",
    "$$\n",
    "\\left< â \\right> = a\n",
    "$$\n",
    "\n",
    "3.\tEficiência: um estimador é eficiente se uma variância é pequena.\n",
    "\n"
   ]
  },
  {
   "cell_type": "markdown",
   "id": "ec2d7043",
   "metadata": {},
   "source": [
    "## Probabilidade\n",
    "\n",
    "A probabilidade de ocorrência de um evento significa as chances deste ocorrer. Alguns dos conceitos chaves para entender a probabilidade são:\n",
    "\n",
    "**Espaço Amostral $\\Omega$:**\n",
    "Conjunto de todos os possíveis resultados.\n",
    "\n",
    "**Evento E:**\n",
    "Subgrupo do espaço amostral com um ou mais resultados.\n",
    "\n",
    "**Resultado:**\n",
    "Resultado de uma única tentativa em um experimento.\n",
    "\n",
    "A probabilidade clássica pode ser calculada quando cada resultado em um espaço amostral é igualmente provável de ocorrer. Assim:\n",
    "\n",
    "$$\n",
    "P(E) = \\frac{n(E)}{n(\\Omega)}\n",
    "$$\n",
    "\n",
    "Já quando falamos de probabilidade experimental, este conceito está atrelado a frequência de ocorrência de um evento. Então,\n",
    "\n",
    "$$\n",
    "P(E) = \\frac{n^o \\mbox{ de vezes de E ocorreu}}{n^o \\mbox{ total de tentativas}}\n",
    "$$\n",
    "\n",
    "A probabilidade condicional é a chance de um evento A ocorrer condicionada a outro evento B. Podemos calculá-la através do teorema de Bayes:\n",
    "$$\n",
    "P(A|B) = \\frac{P(B|A)P(A)}{P(B)}\n",
    "$$\n",
    "\n",
    "Em que: \n",
    "\n",
    "$P(A|B)$ é a posterior: probabilidade à posteriori de A;\n",
    "        \n",
    "$P(B|A)$ é a verossimilhança: a probabilidade de B condicionada a A;\n",
    "        \n",
    "$P(A)$ é o prior: informação à priori de A;\n",
    "        \n",
    "$P(B)$ é a evidência dos dados.\n",
    "\n",
    "\n",
    "## Estimador de máxima verossimilhança\n",
    "\n",
    "Considerando o teorema de Bayes e a probabilidade de certo conjunto de dados, pode-se estimar os parâmetros de um modelo que os descreva.\n",
    "\n",
    "Dado um conjunto de dados $ X = \\{x_1, x_2, ..., x_n\\}$, a probabilidade desses dados serem obtidos, considerando um conjunto de parâmetros $W = \\{wi\\}$, é definida como verossimilhança dos dados e pode ser escrita como a combinação da probabilidade de cada dado do conjunto:\n",
    "\n",
    "\\begin{equation}\n",
    "    \\mathscr{L}(X|W) = \\prod_{ i = 1 } ^{ n }  P (x_i | W)\n",
    "\\end{equation}\n",
    "\n",
    "A partir disto, pode-se definir a quantidade ${\\chi }^2 = - 2 ln \\mathscr{L}$, de forma que\n",
    "\n",
    "\\begin{equation}\n",
    "    \\chi ^2 = - 2 ln (\\mathscr{L}(X|w)) = \\sum_{ i = 1 } ^{ n } - 2 ln( P (x_i| w)).\n",
    "\\end{equation}\n",
    "\n",
    "Fazendo a minimização de $\\chi^2$ em relação à W, pode-se encontrar o conjunto de parâmetros que maximiza a probabilidade dos dados. Ou seja, o estimador dos parâmetros que resultam na máxima verossimilhança é \n",
    "\n",
    "\\begin{equation}\n",
    "                \\hat{W} = arg \\ \\underset{w \\in W}{min} \\left\\{ \\chi ^2 \\right\\} = arg \\ \\underset{w \\in W}{min} \\left\\{  -2 \\ ln \\left(\\mathscr{L}(X|W) \\right) \\right\\}.\n",
    "\\end{equation}\n",
    "\n",
    "## Informação de Fisher\n",
    "\n",
    "A informação de Fisher nos mostra o quanto de informação sobre um parâmetro está contida nos dados. É definida como\n",
    "$$\n",
    "\\textbf{I}_n (\\textbf{W}) = - \\left< ( \\nabla^2 \\mathscr{L} (\\textbf{W}) ) \\right>,\n",
    "$$\n",
    "\n",
    "$$\n",
    "\\nabla^2 \\mathscr{L} (\\textbf{W}) = \\begin{pmatrix}\n",
    "    \\frac{\\partial^2 \\mathscr{L} (\\textbf{W})}{\\partial  {w_1}^2} & \\frac{\\partial^2 \\mathscr{L} (\\textbf{W})}{\\partial w_1 \\partial  w_2} & \\cdots &  \\frac{\\partial^2 \\mathscr{L} (\\textbf{W})}{\\partial w_1 \\partial  w_d} \\\\\n",
    "    \\frac{\\partial^2 \\mathscr{L} (\\textbf{W})}{\\partial w_2 \\partial  w_1}& \\frac{\\partial^2 \\mathscr{L} (\\textbf{W})}{\\partial  {w_2}^2} & \\cdots &  \\frac{\\partial^2 \\mathscr{L} (\\textbf{W})}{\\partial w_2 \\partial  w_d} \\\\\n",
    "    \\vdots & \\vdots & \\ddots & \\vdots \\\\\n",
    "     \\frac{\\partial^2 \\mathscr{L} (\\textbf{W})}{\\partial w_d \\partial  w_1} &  \\frac{\\partial^2 \\mathscr{L} (\\textbf{W})}{\\partial w_d \\partial  w_2} & \\cdots      &  \\frac{\\partial^2 \\mathscr{L} (\\textbf{W})}{\\partial {w_d}^2}\n",
    "\\end{pmatrix}.\n",
    "$$\n",
    "\n",
    "Com a matriz de informação de Fisher é possível construir intervalos de confiança para os parâmetros."
   ]
  },
  {
   "cell_type": "markdown",
   "id": "e43897ee",
   "metadata": {},
   "source": [
    "## Estimativa de parâmetros cosmológicos\n"
   ]
  },
  {
   "cell_type": "code",
   "execution_count": 14,
   "id": "8624c28c",
   "metadata": {},
   "outputs": [],
   "source": [
    "# NumCosmo:\n",
    "try:\n",
    "  import gi\n",
    "  gi.require_version('NumCosmo', '1.0')\n",
    "  gi.require_version('NumCosmoMath', '1.0')\n",
    "except:\n",
    "  pass\n",
    "\n",
    "from gi.repository import GObject\n",
    "from gi.repository import NumCosmo as Nc\n",
    "from gi.repository import NumCosmoMath as Ncm\n",
    "\n",
    "import matplotlib.pyplot as plt\n",
    "import scipy\n",
    "import numpy as np\n",
    "from sympy import *\n",
    "import scipy.stats as scs\n",
    "\n",
    "from numpy import sqrt, log10, sinh, exp\n",
    "from numpy import log as ln\n",
    "\n",
    "from scipy.integrate import quad #Integrate\n",
    "from sympy import diff, Symbol, symbols #Derivative\n",
    "from scipy.optimize import minimize\n",
    "\n",
    "c = 3*(10**5)\n",
    "\n",
    "Ncm.cfg_init ()\n",
    "cosmo = Nc.HICosmoDEXcdm() #Cosmology object\n",
    "\n",
    "ser = Ncm.Serialize.new(0)\n",
    "data = ser.from_file(\"/home/cinthia/NumCosmo/data/nc_data_snia_diag_legacy.obj\")\n",
    "lenz = data.y.len()\n",
    "\n",
    "muobs = []\n",
    "sigma = []\n",
    "zobs = []\n",
    "for i in range(lenz):\n",
    "    mi = data.y.get(i)\n",
    "    si = data.sigma.get(i)\n",
    "    zi = data.x.get(i)\n",
    "    \n",
    "    muobs.append(mi)\n",
    "    sigma.append(si)\n",
    "    zobs.append(zi)\n",
    "\n",
    "muobs = np.array(muobs)\n",
    "zobs = np.array(zobs)\n",
    "sigmaobs = np.array(sigma)"
   ]
  },
  {
   "cell_type": "markdown",
   "id": "c042fe4d",
   "metadata": {},
   "source": [
    "#### Módulo de distância de supernovas"
   ]
  },
  {
   "cell_type": "code",
   "execution_count": 11,
   "id": "2a5a0b49",
   "metadata": {},
   "outputs": [],
   "source": [
    "def Dl(z, theta):\n",
    "#Theta\n",
    "    H0, Omega_m0, Omega_l0  = theta[0], theta[1], theta[2]\n",
    "\n",
    "#Hubble function\n",
    "#    E2z = Omega_l0 + Omega_k0*((1 + z) ** 2) + Omega_m0*((1 + z) ** 3) + Omega_r0*((1 + z) ** 4) \n",
    "#    Ez = E2z ** 0.5\n",
    "    \n",
    "\n",
    "#Comoving distance\n",
    "    def integ(b):\n",
    "        int_arg = lambda z: 1/((Omega_l0 + (Omega_m0 * ((1 + z) ** 3))) ** 0.5)\n",
    "        result = quad(int_arg, 0, b)\n",
    "        return result[0]\n",
    "\n",
    "    dc_list = []\n",
    "    for i in range(lenz):\n",
    "        d = integ (z[i])     #(* c/H0)   \n",
    "        dc_list.append(d)\n",
    "\n",
    "    dc = np.array(dc_list)      \n",
    "    Dc =  dc     #( * H0/c)\n",
    "\n",
    "#Temporal comoving distance\n",
    "#     if Omega_k0 == 0:\n",
    "#         Dt = Dc\n",
    "#     else:\n",
    "#         Dt = sinh((sqrt(Omega_k0)) * Dc) / sqrt(Omega_k0)\n",
    "   \n",
    "    Dt = Dc\n",
    "\n",
    "    \n",
    "#Luminosity distance\n",
    "    D_l = (1 + z) * Dt\n",
    "\n",
    "    return D_l\n",
    "\n",
    "def mu(z, theta): #This function calculates the distance modulus\n",
    "#Modulus distance\n",
    "    H0, Omega_m0, Omega_l0  = theta[0], theta[1], theta[2]\n",
    "    DL = Dl(z, theta)\n",
    "    mu = ( 5 * log10(DL) ) + 25 + ( 5 * log10(c / H0))\n",
    "    \n",
    "    return mu "
   ]
  },
  {
   "cell_type": "markdown",
   "id": "be14fa41",
   "metadata": {},
   "source": [
    "### Verossimilhança\n",
    "Aqui calculamos a função de verossimilhança $\\mathscr{L}$ e $\\chi^2$:\n",
    "\n",
    "\\begin{equation}\n",
    "    \\chi^2 = -2 \\mathscr{L}(w|x).\n",
    "\\end{equation}"
   ]
  },
  {
   "cell_type": "code",
   "execution_count": 15,
   "id": "164dad6a",
   "metadata": {},
   "outputs": [],
   "source": [
    "def f_2lnL(theta): #This function calculates -2lnL (L is the Likelihood).\n",
    "    arg = []\n",
    "    mu_z = mu(zobs,theta)\n",
    "    for i in range(lenz):\n",
    "        argi = ( ( mu_z[i] - muobs[i] ) ** 2 ) / ( sigmaobs[i] ** 2 )\n",
    "        arg.append(argi)\n",
    "        \n",
    "    return sum(arg)  "
   ]
  },
  {
   "cell_type": "markdown",
   "id": "7bb225c2",
   "metadata": {},
   "source": [
    "### Máxima Verossimilhança\n",
    "\n",
    "Usamos a máxima verossimilhança dos dados para estimar os parâmetros $H_0$, $\\Omega_m$, $\\Omega_\\lambda$."
   ]
  },
  {
   "cell_type": "code",
   "execution_count": 17,
   "id": "1207a3a7",
   "metadata": {},
   "outputs": [
    {
     "name": "stdout",
     "output_type": "stream",
     "text": [
      " [H0 Omega_m0 Omega_l0] \n",
      " [71.11068429  0.25476161  0.71600742]\n"
     ]
    }
   ],
   "source": [
    "def fit():\n",
    "    x0 = [70.0, 0.25, 0.70]\n",
    "    x0_np = np.array(x0)\n",
    "    bnds = ((0, None), (0, 1.0), (0, 1.0))\n",
    "    \n",
    "    f = minimize(f_2lnL, x0_np, bounds = bnds, method='Nelder-Mead', tol=1e-6)\n",
    "    \n",
    "    return f\n",
    "\n",
    "fit = fit()\n",
    "\n",
    "print(f' [H0 Omega_m0 Omega_l0] \\n', fit.x)"
   ]
  },
  {
   "cell_type": "markdown",
   "id": "02ac4e81",
   "metadata": {},
   "source": [
    "### Matriz de informação de Fisher"
   ]
  },
  {
   "cell_type": "code",
   "execution_count": 18,
   "id": "082c3bf6",
   "metadata": {},
   "outputs": [
    {
     "name": "stdout",
     "output_type": "stream",
     "text": [
      "The Fisher Information Matrix, Fij = < del(-lnL)/deltheta_i deltheta_j> (theta = [H0, OmegaLambda, Omegam]), is: \n",
      " [[4.20953415e+00 1.50749550e+02 2.95937950e+02]\n",
      " [1.50749550e+02 5.44394992e+03 1.11327621e+04]\n",
      " [2.95937950e+02 1.11327621e+04 2.72277427e+04]]\n"
     ]
    }
   ],
   "source": [
    "#Parameters and data\n",
    "theta = fit.x\n",
    "H0 = theta[0]\n",
    "z = zobs\n",
    "\n",
    "# factor: del(dc)/delOmega_lambda/m\n",
    "def dOm(z, Omega):\n",
    "    dc_list = []\n",
    "    for i in range(lenz):\n",
    "        \n",
    "        H0, Omega_m0, Omega_l0  = theta[0], theta[1], theta[2]\n",
    "        \n",
    "        if Omega == 1:        #Omega_Lambda case\n",
    "            int_arg = lambda z: -(0.5) * ((Omega_l0 + (Omega_m0 * ((1 + z) ** 3)))) ** (3/2)\n",
    "            d = quad(int_arg, 0, z[i])\n",
    "        \n",
    "        else:                #Omega_m case\n",
    "            \n",
    "            int_arg = lambda z: -((1 + z) ** 3) * (0.5) * ((Omega_l0 + (Omega_m0 * ((1 + z) ** 3)))) ** (3/2)\n",
    "            d = quad(int_arg, 0, z[i])\n",
    "        \n",
    "               \n",
    "        dc_list.append(d[0])\n",
    "\n",
    "    return np.array(dc_list)\n",
    "\n",
    "\n",
    "#delmu/delH0\n",
    "delmuH0 =  []\n",
    "\n",
    "#delmu/delOmegalambda\n",
    "delmuOL = []\n",
    "\n",
    "#delmu/delOmegam\n",
    "delmuOM = []\n",
    "\n",
    "for k in range(lenz):\n",
    "    delmuH0i =(- 5) / (H0 * ln(10))\n",
    "    delmuOLi = (5 / (Dl(z, theta)[k] * ln(10)) * dOm(zobs, 1)[k])\n",
    "    delmuOMi = (5 / (Dl(z, theta)[k] * ln(10)) * dOm(zobs, 2)[k])\n",
    "    delmuOL.append(delmuOLi)\n",
    "    delmuOM.append(delmuOMi)\n",
    "    delmuH0.append(delmuH0i)\n",
    "\n",
    "\n",
    "der = [delmuH0, delmuOL, delmuOM] #list of derivatives from mu\n",
    "\n",
    "#Fisher Matrix\n",
    "list_mn = []\n",
    "for n in der:\n",
    "    list_m = []\n",
    "    for m in der:\n",
    "        list_d = []\n",
    "        for i in range(lenz):\n",
    "            di = (1 / (sigma[i]) ** 2) * ( n[i] * m[i])\n",
    "            list_d.append(di)\n",
    "        list_m.append(sum(list_d))\n",
    "    list_mn.append(list_m)\n",
    "    \n",
    "fisher_matrix = np.array(list_mn)                \n",
    "print(f'The Fisher Information Matrix, Fij = < del(-lnL)/deltheta_i deltheta_j> (theta = [H0, OmegaLambda, Omegam]), is: \\n', fisher_matrix)                \n"
   ]
  },
  {
   "cell_type": "markdown",
   "id": "c9f7c217",
   "metadata": {},
   "source": [
    "### Regiões de confiança"
   ]
  },
  {
   "cell_type": "code",
   "execution_count": 19,
   "id": "2d77c68f",
   "metadata": {},
   "outputs": [
    {
     "data": {
      "image/png": "[encoded data removed]",
      "text/plain": [
       "<Figure size 432x288 with 1 Axes>"
      ]
     },
     "metadata": {
      "needs_background": "light"
     },
     "output_type": "display_data"
    },
    {
     "data": {
      "image/png": "[encoded data removed]",
      "text/plain": [
       "<Figure size 432x288 with 1 Axes>"
      ]
     },
     "metadata": {
      "needs_background": "light"
     },
     "output_type": "display_data"
    },
    {
     "data": {
      "image/png": "[encoded data removed]",
      "text/plain": [
       "<Figure size 432x288 with 1 Axes>"
      ]
     },
     "metadata": {
      "needs_background": "light"
     },
     "output_type": "display_data"
    }
   ],
   "source": [
    "#chi² for 1sigma, 2sigma, 3sigma\n",
    "chi_list = [scs.chi2.ppf(0.6827, 2), scs.chi2.ppf(0.9545, 2), scs.chi2.ppf(0.9973, 2)]\n",
    "\n",
    "#-2lnL from the best fit\n",
    "theta_fit = fit.x\n",
    "f2lnL = f_2lnL(theta_fit)\n",
    "\n",
    "#Intervals to the confidance test and plot\n",
    "int1 = np.linspace(50 ,100, 50)\n",
    "int2 = np.linspace(0.01 ,1, 50)\n",
    "int3 = np.linspace(0.01 ,1, 50)\n",
    "inter =[int1, int2, int3]\n",
    "\n",
    "#Define the confidence interval and plot\n",
    "for k in range(3):\n",
    "    for i in range(50):\n",
    "        for j in range(50):\n",
    "\n",
    "            theta1 = [theta_fit[0], inter[1][i], inter[2][j]]      #fixing theta[0]\n",
    "            theta2 = [inter[0][i], theta_fit[1], inter[2][j]]      #fixing theta[1]\n",
    "            theta3 = [inter[0][i], inter[1][j], theta_fit[2]]      #fixing theta[2]\n",
    "            theta = [theta1, theta2, theta3]\n",
    "\n",
    "            lambda_f = (f_2lnL(theta[k])/ (f2lnL))\n",
    "            \n",
    "            intervals =[[inter[1][i], inter[2][j]], [inter[0][i], inter[2][j]],\n",
    "                        [inter[0][i], inter[1][j]]]\n",
    "                        \n",
    "            if  lambda_f < chi_list[0]:\n",
    "                plt.scatter(intervals[k][0], intervals[k][1], color = 'violet')\n",
    "                \n",
    "\n",
    "            elif chi_list[0] < lambda_f < chi_list[1]:\n",
    "                plt.scatter(intervals[k][0], intervals[k][1], color = 'aquamarine')\n",
    "                \n",
    "\n",
    "            elif chi_list[1] < lambda_f < chi_list[2]:\n",
    "                plt.scatter(intervals[k][0], intervals[k][1], color = 'skyblue')\n",
    "                \n",
    "\n",
    "    #Plot settings    \n",
    "    labels = [['\\Omega_m','\\Omega_\\Lambda'], ['H0', '\\Omega_\\Lambda'], ['H0', '\\Omega_m']]\n",
    "    plt.title(f'Confidence Region for ${labels[k][0]}$ and ${labels[k][1]}$')\n",
    "    plt.ylabel(f'${labels[k][0]}$')\n",
    "    plt.xlabel(f'${labels[k][1]}$')\n",
    "    plt.legend([f' $violet = 1\\sigma$, $green = 2\\sigma$, $blue = 3\\sigma$ '])\n",
    "    plt.show()\n"
   ]
  },
  {
   "cell_type": "code",
   "execution_count": null,
   "id": "6ed02a70",
   "metadata": {},
   "outputs": [],
   "source": []
  }
 ],
 "metadata": {
  "kernelspec": {
   "display_name": "Python 3 (ipykernel)",
   "language": "python",
   "name": "python3"
  },
  "language_info": {
   "codemirror_mode": {
    "name": "ipython",
    "version": 3
   },
   "file_extension": ".py",
   "mimetype": "text/x-python",
   "name": "python",
   "nbconvert_exporter": "python",
   "pygments_lexer": "ipython3",
   "version": "3.8.10"
  }
 },
 "nbformat": 4,
 "nbformat_minor": 5
}
